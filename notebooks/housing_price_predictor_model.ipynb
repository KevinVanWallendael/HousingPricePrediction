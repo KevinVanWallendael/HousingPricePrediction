{
 "cells": [
  {
   "cell_type": "markdown",
   "metadata": {},
   "source": [
    "# Housing Price Prediction Model\n",
    "\n",
    "This notebook demonstrates the steps taken to build a machine learning model for predicting housing prices in Warsaw. The dataset contains information on property details such as size, rent, location, and amenities. The dataset has been sebscraped from Otodom with Selenium. More information can be found on: https://github.com/KevinVanWallendael/OtodomScraper \n",
    "\n",
    "In this notebook, we will:\n",
    "- Load and preprocess the data\n",
    "- Handle missing values and outliers\n",
    "- Engineer new features like price per square meter and amenities\n",
    "- Train a machine learning model using XGBoost\n",
    "- Evaluate the model using performance metrics\n",
    "\n",
    "We will also explain the significance of each preprocessing step and why particular evaluation metrics are used in this regression task."
   ]
  },
  {
   "cell_type": "markdown",
   "metadata": {},
   "source": [
    "## Step 1: Import Libraries\n",
    "\n",
    "We begin by importing the required libraries:\n",
    "- `pandas` and `numpy` for data manipulation and numerical operations.\n",
    "- `sklearn` libraries for building and evaluating machine learning models.\n",
    "- `XGBoost`, a popular gradient boosting method, for training our regression model.\n",
    "- `joblib` to save the trained model for future use."
   ]
  },
  {
   "cell_type": "code",
   "execution_count": 1,
   "metadata": {},
   "outputs": [],
   "source": [
    "# Importing necessary libraries\n",
    "import pandas as pd\n",
    "import numpy as np\n",
    "from sklearn.model_selection import train_test_split, GridSearchCV\n",
    "from sklearn.preprocessing import StandardScaler, OneHotEncoder\n",
    "from sklearn.compose import ColumnTransformer\n",
    "from sklearn.pipeline import Pipeline\n",
    "from sklearn.impute import SimpleImputer\n",
    "from sklearn.metrics import mean_absolute_error\n",
    "import joblib\n",
    "from xgboost import XGBRegressor"
   ]
  },
  {
   "cell_type": "markdown",
   "metadata": {},
   "source": [
    "## Step 2: Load the Dataset\n",
    "\n",
    "Here, we load the dataset containing the housing details. It's crucial to check the dataset structure before any further processing to ensure it's ready for modeling."
   ]
  },
  {
   "cell_type": "code",
   "execution_count": 2,
   "metadata": {},
   "outputs": [],
   "source": [
    "# Load the dataset\n",
    "df = pd.read_csv(r'data/otodom_data.csv')"
   ]
  },
  {
   "cell_type": "markdown",
   "metadata": {},
   "source": [
    "### Step 3: Preprocessing 'size' Column\n",
    "\n",
    "We begin by cleaning the 'size' column. The 'm²' unit is removed, commas are replaced with dots to convert to the correct float format, and then the column is cast to a numeric type.\n",
    "\n",
    "Data preprocessing ensures that the features are in a usable format for machine learning algorithms."
   ]
  },
  {
   "cell_type": "code",
   "execution_count": 3,
   "metadata": {},
   "outputs": [],
   "source": [
    "# Preprocess 'size' column\n",
    "df['size'] = df['size'].str.replace('m²', '', regex=True).str.replace(',', '.').astype(float)"
   ]
  },
  {
   "cell_type": "markdown",
   "metadata": {},
   "source": [
    "### Step 4: Handling Missing or Non-Numeric Values in 'Czynsz'\n",
    "\n",
    "We handle missing values and non-numeric entries in the 'Czynsz' column (monthly rent). Any 'brak informacji' (missing info) is converted to NaN, and formatting issues like extra spaces and commas are fixed. \n",
    "\n",
    "Handling missing values is important to ensure that the model receives valid data for training and evaluation."
   ]
  },
  {
   "cell_type": "code",
   "execution_count": 4,
   "metadata": {},
   "outputs": [],
   "source": [
    "# Handle missing or non-numeric values in 'Czynsz' (monthly rent)\n",
    "df['Czynsz'] = (\n",
    "    df['Czynsz']\n",
    "    .replace('brak informacji', np.nan)\n",
    "    .str.replace(' zł', '', regex=True)\n",
    "    .str.replace(',', '.', regex=True)\n",
    "    .str.replace(' ', '', regex=True)\n",
    "    .astype(float)\n",
    ")"
   ]
  },
  {
   "cell_type": "markdown",
   "metadata": {},
   "source": [
    "### Step 5: Creating Missing Indicator for 'Czynsz'\n",
    "\n",
    "We create a binary indicator for whether 'Czynsz' (monthly rent) is missing or not. This can provide additional information to the model about missing rent values.\n",
    "\n",
    "Feature engineering helps improve model performance by providing meaningful input features."
   ]
  },
  {
   "cell_type": "code",
   "execution_count": 5,
   "metadata": {},
   "outputs": [],
   "source": [
    "# Create missing indicator for 'Czynsz'\n",
    "df['has_czynsz'] = df['Czynsz'].isna().astype(int)"
   ]
  },
  {
   "cell_type": "markdown",
   "metadata": {},
   "source": [
    "### Step 6: Extracting City, Neighborhood, and Region\n",
    "\n",
    "We extract the city, neighborhood, and region information from the 'location' column using regular expressions. This enables the model to leverage location-based information during training.\n",
    "\n",
    "Feature extraction is crucial for ensuring the model can use the most relevant data for its predictions."
   ]
  },
  {
   "cell_type": "code",
   "execution_count": 6,
   "metadata": {},
   "outputs": [],
   "source": [
    "# Extract city, neighborhood, and region\n",
    "df['city'] = df['location'].str.extract(r'(\\w+),\\s*\\w+,\\s*(\\w+)$')[0]\n",
    "df['neighborhood'] = df['location'].str.extract(r'(\\w+),\\s*(\\w+),\\s*\\w+$')[1]\n",
    "df['region'] = df['location'].str.extract(r'(\\w+)$')[0]\n",
    "df = df.drop(columns=['location'])"
   ]
  },
  {
   "cell_type": "markdown",
   "metadata": {},
   "source": [
    "## Step 7: Preprocessing the Price Column\n",
    "\n",
    "We clean the 'price' column by removing unnecessary characters such as currency symbols and spaces, and replacing commas with dots. Any rows with unavailable price information are removed.\n",
    "\n",
    "It's essential to preprocess target variables just as carefully as input features to ensure the model can make accurate predictions."
   ]
  },
  {
   "cell_type": "code",
   "execution_count": 7,
   "metadata": {},
   "outputs": [],
   "source": [
    "# Preprocess price column\n",
    "df['price'] = df['price'].str.replace(' zł', '', regex=True).str.replace(' ', '', regex=True).str.replace(',', '.', regex=True)\n",
    "df['price'] = df['price'].replace('Pricenotavailable', np.nan).astype(float)\n",
    "df = df.dropna(subset=['price'])"
   ]
  },
  {
   "cell_type": "markdown",
   "metadata": {},
   "source": [
    "### Step 8: Creating 'Price per Square Meter' Feature\n",
    "\n",
    "We calculate the price per square meter, which can help the model understand the pricing dynamics relative to property size.\n",
    "\n",
    "Feature engineering helps the model use domain knowledge, like the price-per-sqm, to improve predictive accuracy."
   ]
  },
  {
   "cell_type": "code",
   "execution_count": 8,
   "metadata": {},
   "outputs": [],
   "source": [
    "# Feature: Price per sqm\n",
    "df['price_per_sqm'] = df['price'] / df['size']"
   ]
  },
  {
   "cell_type": "markdown",
   "metadata": {},
   "source": [
    "### Step 9: Extracting Features from 'Informacje dodatkowe'\n",
    "\n",
    "We create binary features based on the amenities mentioned in the 'Informacje dodatkowe' column (e.g., balcony, garage). This allows the model to understand whether these amenities are present or not.\n",
    "\n",
    "Feature extraction from text data is used to derive meaningful features from unstructured information."
   ]
  },
  {
   "cell_type": "code",
   "execution_count": 9,
   "metadata": {},
   "outputs": [],
   "source": [
    "# Feature Extraction: 'Informacje dodatkowe'\n",
    "def extract_amenities(data):\n",
    "    amenities = ['balkon', 'taras', 'garaż/miejsce parkingowe', 'piwnica', 'oddzielna kuchnia', 'ogródek', 'pom. użytkowe']\n",
    "    for amenity in amenities:\n",
    "        data[f'has_{amenity.replace(\"/\", \"_\").replace(\" \", \"_\").lower()}'] = data['Informacje dodatkowe'].str.contains(amenity, case=False, na=False).astype(int)\n",
    "    return data\n",
    "\n",
    "df = extract_amenities(df)\n",
    "df = df.drop(columns=['Informacje dodatkowe'])"
   ]
  },
  {
   "cell_type": "markdown",
   "metadata": {},
   "source": [
    "### Step 10: Removing Outliers\n",
    "\n",
    "Outliers are removed using the Interquartile Range (IQR) method. This helps ensure that extreme values do not skew the model's predictions.\n",
    "\n",
    "Handling outliers is crucial for improving model accuracy, especially for regression tasks where large errors can disproportionately affect performance."
   ]
  },
  {
   "cell_type": "code",
   "execution_count": 10,
   "metadata": {},
   "outputs": [],
   "source": [
    "# Handle outliers (IQR method)\n",
    "def remove_outliers(df, column):\n",
    "    Q1 = df[column].quantile(0.25)\n",
    "    Q3 = df[column].quantile(0.75)\n",
    "    IQR = Q3 - Q1\n",
    "    return df[(df[column] > (Q1 - 1.5 * IQR)) & (df[column] < (Q3 + 1.5 * IQR))]\n",
    "\n",
    "df = remove_outliers(df, 'price')\n",
    "df = remove_outliers(df, 'size')"
   ]
  },
  {
   "cell_type": "markdown",
   "metadata": {},
   "source": [
    "### Step 11: Log Transforming the Target Variable\n",
    "\n",
    "We apply a log transformation to the 'price' column to reduce skewness and make the distribution more Gaussian. This is a common technique in regression problems with heavily skewed data.\n",
    "\n",
    "Log transformation can improve model performance by stabilizing variance and making predictions more reliable."
   ]
  },
  {
   "cell_type": "code",
   "execution_count": 11,
   "metadata": {},
   "outputs": [],
   "source": [
    "# Log transform price (reduces skewness)\n",
    "df['log_price'] = np.log(df['price'])"
   ]
  },
  {
   "cell_type": "markdown",
   "metadata": {},
   "source": [
    "### Step 12: Defining Features and Target\n",
    "\n",
    "We define the input features (`X`) and the target variable (`y`). In this case, the target variable is the log-transformed price.\n",
    "\n",
    "Carefully defining the features and target is key to ensuring the model learns from the right data."
   ]
  },
  {
   "cell_type": "code",
   "execution_count": 12,
   "metadata": {},
   "outputs": [],
   "source": [
    "# Define features and target\n",
    "X = df.drop(columns=['price', 'log_price', 'title'])\n",
    "y = df['log_price']"
   ]
  },
  {
   "cell_type": "markdown",
   "metadata": {},
   "source": [
    "### Step 13: Creating Preprocessing Pipelines\n",
    "\n",
    "We define separate preprocessing pipelines for numerical and categorical features. For numerical features, we apply imputation and scaling. For categorical features, we apply imputation and one-hot encoding.\n",
    "\n",
    "Using a pipeline allows us to streamline the preprocessing steps and ensure consistency during training and testing."
   ]
  },
  {
   "cell_type": "code",
   "execution_count": 13,
   "metadata": {},
   "outputs": [],
   "source": [
    "# Define categorical and numerical features\n",
    "categorical_features = ['Ogrzewanie', 'Piętro', 'Stan wykończenia', 'Rynek', 'Forma własności', 'Typ ogłoszeniodawcy', 'neighborhood']\n",
    "numerical_features = ['size', 'Czynsz', 'has_czynsz', 'price_per_sqm'] + [col for col in df.columns if col.startswith('has_')]\n",
    "\n",
    "# Preprocessing Pipelines\n",
    "numerical_transformer = Pipeline(steps=[\n",
    "    ('imputer', SimpleImputer(strategy='mean')),\n",
    "    ('scaler', StandardScaler())\n",
    "])\n",
    "\n",
    "categorical_transformer = Pipeline(steps=[\n",
    "    ('imputer', SimpleImputer(strategy='constant', fill_value='missing')),\n",
    "    ('onehot', OneHotEncoder(handle_unknown='ignore'))\n",
    "])\n",
    "\n",
    "preprocessor = ColumnTransformer(\n",
    "    transformers=[\n",
    "        ('num', numerical_transformer, numerical_features),\n",
    "        ('cat', categorical_transformer, categorical_features)\n",
    "    ])"
   ]
  },
  {
   "cell_type": "markdown",
   "metadata": {},
   "source": [
    "### Step 14: Model Pipeline with XGBoost\n",
    "\n",
    "Here, we create the machine learning pipeline, which includes both preprocessing and the model. We use XGBoost, a powerful gradient boosting algorithm, for regression.\n",
    "\n",
    "XGBoost is popular due to its efficiency, scalability, and strong performance in many tasks."
   ]
  },
  {
   "cell_type": "code",
   "execution_count": 14,
   "metadata": {},
   "outputs": [],
   "source": [
    "# Model Pipeline with XGBoost\n",
    "model = Pipeline(steps=[\n",
    "    ('preprocessor', preprocessor),\n",
    "    ('regressor', XGBRegressor(n_estimators=500, learning_rate=0.05, max_depth=6, random_state=42))\n",
    "])"
   ]
  },
  {
   "cell_type": "markdown",
   "metadata": {},
   "source": [
    "### Step 15: Training the Model\n",
    "\n",
    "We split the dataset into training and testing sets and train the model using the training data. It's important to evaluate the model on unseen data to ensure it generalizes well."
   ]
  },
  {
   "cell_type": "code",
   "execution_count": 15,
   "metadata": {},
   "outputs": [
    {
     "data": {
      "text/html": [
       "<style>#sk-container-id-1 {color: black;background-color: white;}#sk-container-id-1 pre{padding: 0;}#sk-container-id-1 div.sk-toggleable {background-color: white;}#sk-container-id-1 label.sk-toggleable__label {cursor: pointer;display: block;width: 100%;margin-bottom: 0;padding: 0.3em;box-sizing: border-box;text-align: center;}#sk-container-id-1 label.sk-toggleable__label-arrow:before {content: \"▸\";float: left;margin-right: 0.25em;color: #696969;}#sk-container-id-1 label.sk-toggleable__label-arrow:hover:before {color: black;}#sk-container-id-1 div.sk-estimator:hover label.sk-toggleable__label-arrow:before {color: black;}#sk-container-id-1 div.sk-toggleable__content {max-height: 0;max-width: 0;overflow: hidden;text-align: left;background-color: #f0f8ff;}#sk-container-id-1 div.sk-toggleable__content pre {margin: 0.2em;color: black;border-radius: 0.25em;background-color: #f0f8ff;}#sk-container-id-1 input.sk-toggleable__control:checked~div.sk-toggleable__content {max-height: 200px;max-width: 100%;overflow: auto;}#sk-container-id-1 input.sk-toggleable__control:checked~label.sk-toggleable__label-arrow:before {content: \"▾\";}#sk-container-id-1 div.sk-estimator input.sk-toggleable__control:checked~label.sk-toggleable__label {background-color: #d4ebff;}#sk-container-id-1 div.sk-label input.sk-toggleable__control:checked~label.sk-toggleable__label {background-color: #d4ebff;}#sk-container-id-1 input.sk-hidden--visually {border: 0;clip: rect(1px 1px 1px 1px);clip: rect(1px, 1px, 1px, 1px);height: 1px;margin: -1px;overflow: hidden;padding: 0;position: absolute;width: 1px;}#sk-container-id-1 div.sk-estimator {font-family: monospace;background-color: #f0f8ff;border: 1px dotted black;border-radius: 0.25em;box-sizing: border-box;margin-bottom: 0.5em;}#sk-container-id-1 div.sk-estimator:hover {background-color: #d4ebff;}#sk-container-id-1 div.sk-parallel-item::after {content: \"\";width: 100%;border-bottom: 1px solid gray;flex-grow: 1;}#sk-container-id-1 div.sk-label:hover label.sk-toggleable__label {background-color: #d4ebff;}#sk-container-id-1 div.sk-serial::before {content: \"\";position: absolute;border-left: 1px solid gray;box-sizing: border-box;top: 0;bottom: 0;left: 50%;z-index: 0;}#sk-container-id-1 div.sk-serial {display: flex;flex-direction: column;align-items: center;background-color: white;padding-right: 0.2em;padding-left: 0.2em;position: relative;}#sk-container-id-1 div.sk-item {position: relative;z-index: 1;}#sk-container-id-1 div.sk-parallel {display: flex;align-items: stretch;justify-content: center;background-color: white;position: relative;}#sk-container-id-1 div.sk-item::before, #sk-container-id-1 div.sk-parallel-item::before {content: \"\";position: absolute;border-left: 1px solid gray;box-sizing: border-box;top: 0;bottom: 0;left: 50%;z-index: -1;}#sk-container-id-1 div.sk-parallel-item {display: flex;flex-direction: column;z-index: 1;position: relative;background-color: white;}#sk-container-id-1 div.sk-parallel-item:first-child::after {align-self: flex-end;width: 50%;}#sk-container-id-1 div.sk-parallel-item:last-child::after {align-self: flex-start;width: 50%;}#sk-container-id-1 div.sk-parallel-item:only-child::after {width: 0;}#sk-container-id-1 div.sk-dashed-wrapped {border: 1px dashed gray;margin: 0 0.4em 0.5em 0.4em;box-sizing: border-box;padding-bottom: 0.4em;background-color: white;}#sk-container-id-1 div.sk-label label {font-family: monospace;font-weight: bold;display: inline-block;line-height: 1.2em;}#sk-container-id-1 div.sk-label-container {text-align: center;}#sk-container-id-1 div.sk-container {/* jupyter's `normalize.less` sets `[hidden] { display: none; }` but bootstrap.min.css set `[hidden] { display: none !important; }` so we also need the `!important` here to be able to override the default hidden behavior on the sphinx rendered scikit-learn.org. See: https://github.com/scikit-learn/scikit-learn/issues/21755 */display: inline-block !important;position: relative;}#sk-container-id-1 div.sk-text-repr-fallback {display: none;}</style><div id=\"sk-container-id-1\" class=\"sk-top-container\"><div class=\"sk-text-repr-fallback\"><pre>Pipeline(steps=[(&#x27;preprocessor&#x27;,\n",
       "                 ColumnTransformer(transformers=[(&#x27;num&#x27;,\n",
       "                                                  Pipeline(steps=[(&#x27;imputer&#x27;,\n",
       "                                                                   SimpleImputer()),\n",
       "                                                                  (&#x27;scaler&#x27;,\n",
       "                                                                   StandardScaler())]),\n",
       "                                                  [&#x27;size&#x27;, &#x27;Czynsz&#x27;,\n",
       "                                                   &#x27;has_czynsz&#x27;,\n",
       "                                                   &#x27;price_per_sqm&#x27;,\n",
       "                                                   &#x27;has_czynsz&#x27;, &#x27;has_balkon&#x27;,\n",
       "                                                   &#x27;has_taras&#x27;,\n",
       "                                                   &#x27;has_garaż_miejsce_parkingowe&#x27;,\n",
       "                                                   &#x27;has_piwnica&#x27;,\n",
       "                                                   &#x27;has_oddzielna_kuchnia&#x27;,\n",
       "                                                   &#x27;has_ogródek&#x27;,\n",
       "                                                   &#x27;has_pom._użytkowe&#x27;]),\n",
       "                                                 (&#x27;cat&#x27;,\n",
       "                                                  Pipeline(...\n",
       "                              feature_types=None, gamma=None, gpu_id=None,\n",
       "                              grow_policy=None, importance_type=None,\n",
       "                              interaction_constraints=None, learning_rate=0.05,\n",
       "                              max_bin=None, max_cat_threshold=None,\n",
       "                              max_cat_to_onehot=None, max_delta_step=None,\n",
       "                              max_depth=6, max_leaves=None,\n",
       "                              min_child_weight=None, missing=nan,\n",
       "                              monotone_constraints=None, n_estimators=500,\n",
       "                              n_jobs=None, num_parallel_tree=None,\n",
       "                              predictor=None, random_state=42, ...))])</pre><b>In a Jupyter environment, please rerun this cell to show the HTML representation or trust the notebook. <br />On GitHub, the HTML representation is unable to render, please try loading this page with nbviewer.org.</b></div><div class=\"sk-container\" hidden><div class=\"sk-item sk-dashed-wrapped\"><div class=\"sk-label-container\"><div class=\"sk-label sk-toggleable\"><input class=\"sk-toggleable__control sk-hidden--visually\" id=\"sk-estimator-id-1\" type=\"checkbox\" ><label for=\"sk-estimator-id-1\" class=\"sk-toggleable__label sk-toggleable__label-arrow\">Pipeline</label><div class=\"sk-toggleable__content\"><pre>Pipeline(steps=[(&#x27;preprocessor&#x27;,\n",
       "                 ColumnTransformer(transformers=[(&#x27;num&#x27;,\n",
       "                                                  Pipeline(steps=[(&#x27;imputer&#x27;,\n",
       "                                                                   SimpleImputer()),\n",
       "                                                                  (&#x27;scaler&#x27;,\n",
       "                                                                   StandardScaler())]),\n",
       "                                                  [&#x27;size&#x27;, &#x27;Czynsz&#x27;,\n",
       "                                                   &#x27;has_czynsz&#x27;,\n",
       "                                                   &#x27;price_per_sqm&#x27;,\n",
       "                                                   &#x27;has_czynsz&#x27;, &#x27;has_balkon&#x27;,\n",
       "                                                   &#x27;has_taras&#x27;,\n",
       "                                                   &#x27;has_garaż_miejsce_parkingowe&#x27;,\n",
       "                                                   &#x27;has_piwnica&#x27;,\n",
       "                                                   &#x27;has_oddzielna_kuchnia&#x27;,\n",
       "                                                   &#x27;has_ogródek&#x27;,\n",
       "                                                   &#x27;has_pom._użytkowe&#x27;]),\n",
       "                                                 (&#x27;cat&#x27;,\n",
       "                                                  Pipeline(...\n",
       "                              feature_types=None, gamma=None, gpu_id=None,\n",
       "                              grow_policy=None, importance_type=None,\n",
       "                              interaction_constraints=None, learning_rate=0.05,\n",
       "                              max_bin=None, max_cat_threshold=None,\n",
       "                              max_cat_to_onehot=None, max_delta_step=None,\n",
       "                              max_depth=6, max_leaves=None,\n",
       "                              min_child_weight=None, missing=nan,\n",
       "                              monotone_constraints=None, n_estimators=500,\n",
       "                              n_jobs=None, num_parallel_tree=None,\n",
       "                              predictor=None, random_state=42, ...))])</pre></div></div></div><div class=\"sk-serial\"><div class=\"sk-item sk-dashed-wrapped\"><div class=\"sk-label-container\"><div class=\"sk-label sk-toggleable\"><input class=\"sk-toggleable__control sk-hidden--visually\" id=\"sk-estimator-id-2\" type=\"checkbox\" ><label for=\"sk-estimator-id-2\" class=\"sk-toggleable__label sk-toggleable__label-arrow\">preprocessor: ColumnTransformer</label><div class=\"sk-toggleable__content\"><pre>ColumnTransformer(transformers=[(&#x27;num&#x27;,\n",
       "                                 Pipeline(steps=[(&#x27;imputer&#x27;, SimpleImputer()),\n",
       "                                                 (&#x27;scaler&#x27;, StandardScaler())]),\n",
       "                                 [&#x27;size&#x27;, &#x27;Czynsz&#x27;, &#x27;has_czynsz&#x27;,\n",
       "                                  &#x27;price_per_sqm&#x27;, &#x27;has_czynsz&#x27;, &#x27;has_balkon&#x27;,\n",
       "                                  &#x27;has_taras&#x27;, &#x27;has_garaż_miejsce_parkingowe&#x27;,\n",
       "                                  &#x27;has_piwnica&#x27;, &#x27;has_oddzielna_kuchnia&#x27;,\n",
       "                                  &#x27;has_ogródek&#x27;, &#x27;has_pom._użytkowe&#x27;]),\n",
       "                                (&#x27;cat&#x27;,\n",
       "                                 Pipeline(steps=[(&#x27;imputer&#x27;,\n",
       "                                                  SimpleImputer(fill_value=&#x27;missing&#x27;,\n",
       "                                                                strategy=&#x27;constant&#x27;)),\n",
       "                                                 (&#x27;onehot&#x27;,\n",
       "                                                  OneHotEncoder(handle_unknown=&#x27;ignore&#x27;))]),\n",
       "                                 [&#x27;Ogrzewanie&#x27;, &#x27;Piętro&#x27;, &#x27;Stan wykończenia&#x27;,\n",
       "                                  &#x27;Rynek&#x27;, &#x27;Forma własności&#x27;,\n",
       "                                  &#x27;Typ ogłoszeniodawcy&#x27;, &#x27;neighborhood&#x27;])])</pre></div></div></div><div class=\"sk-parallel\"><div class=\"sk-parallel-item\"><div class=\"sk-item\"><div class=\"sk-label-container\"><div class=\"sk-label sk-toggleable\"><input class=\"sk-toggleable__control sk-hidden--visually\" id=\"sk-estimator-id-3\" type=\"checkbox\" ><label for=\"sk-estimator-id-3\" class=\"sk-toggleable__label sk-toggleable__label-arrow\">num</label><div class=\"sk-toggleable__content\"><pre>[&#x27;size&#x27;, &#x27;Czynsz&#x27;, &#x27;has_czynsz&#x27;, &#x27;price_per_sqm&#x27;, &#x27;has_czynsz&#x27;, &#x27;has_balkon&#x27;, &#x27;has_taras&#x27;, &#x27;has_garaż_miejsce_parkingowe&#x27;, &#x27;has_piwnica&#x27;, &#x27;has_oddzielna_kuchnia&#x27;, &#x27;has_ogródek&#x27;, &#x27;has_pom._użytkowe&#x27;]</pre></div></div></div><div class=\"sk-serial\"><div class=\"sk-item\"><div class=\"sk-serial\"><div class=\"sk-item\"><div class=\"sk-estimator sk-toggleable\"><input class=\"sk-toggleable__control sk-hidden--visually\" id=\"sk-estimator-id-4\" type=\"checkbox\" ><label for=\"sk-estimator-id-4\" class=\"sk-toggleable__label sk-toggleable__label-arrow\">SimpleImputer</label><div class=\"sk-toggleable__content\"><pre>SimpleImputer()</pre></div></div></div><div class=\"sk-item\"><div class=\"sk-estimator sk-toggleable\"><input class=\"sk-toggleable__control sk-hidden--visually\" id=\"sk-estimator-id-5\" type=\"checkbox\" ><label for=\"sk-estimator-id-5\" class=\"sk-toggleable__label sk-toggleable__label-arrow\">StandardScaler</label><div class=\"sk-toggleable__content\"><pre>StandardScaler()</pre></div></div></div></div></div></div></div></div><div class=\"sk-parallel-item\"><div class=\"sk-item\"><div class=\"sk-label-container\"><div class=\"sk-label sk-toggleable\"><input class=\"sk-toggleable__control sk-hidden--visually\" id=\"sk-estimator-id-6\" type=\"checkbox\" ><label for=\"sk-estimator-id-6\" class=\"sk-toggleable__label sk-toggleable__label-arrow\">cat</label><div class=\"sk-toggleable__content\"><pre>[&#x27;Ogrzewanie&#x27;, &#x27;Piętro&#x27;, &#x27;Stan wykończenia&#x27;, &#x27;Rynek&#x27;, &#x27;Forma własności&#x27;, &#x27;Typ ogłoszeniodawcy&#x27;, &#x27;neighborhood&#x27;]</pre></div></div></div><div class=\"sk-serial\"><div class=\"sk-item\"><div class=\"sk-serial\"><div class=\"sk-item\"><div class=\"sk-estimator sk-toggleable\"><input class=\"sk-toggleable__control sk-hidden--visually\" id=\"sk-estimator-id-7\" type=\"checkbox\" ><label for=\"sk-estimator-id-7\" class=\"sk-toggleable__label sk-toggleable__label-arrow\">SimpleImputer</label><div class=\"sk-toggleable__content\"><pre>SimpleImputer(fill_value=&#x27;missing&#x27;, strategy=&#x27;constant&#x27;)</pre></div></div></div><div class=\"sk-item\"><div class=\"sk-estimator sk-toggleable\"><input class=\"sk-toggleable__control sk-hidden--visually\" id=\"sk-estimator-id-8\" type=\"checkbox\" ><label for=\"sk-estimator-id-8\" class=\"sk-toggleable__label sk-toggleable__label-arrow\">OneHotEncoder</label><div class=\"sk-toggleable__content\"><pre>OneHotEncoder(handle_unknown=&#x27;ignore&#x27;)</pre></div></div></div></div></div></div></div></div></div></div><div class=\"sk-item\"><div class=\"sk-estimator sk-toggleable\"><input class=\"sk-toggleable__control sk-hidden--visually\" id=\"sk-estimator-id-9\" type=\"checkbox\" ><label for=\"sk-estimator-id-9\" class=\"sk-toggleable__label sk-toggleable__label-arrow\">XGBRegressor</label><div class=\"sk-toggleable__content\"><pre>XGBRegressor(base_score=None, booster=None, callbacks=None,\n",
       "             colsample_bylevel=None, colsample_bynode=None,\n",
       "             colsample_bytree=None, early_stopping_rounds=None,\n",
       "             enable_categorical=False, eval_metric=None, feature_types=None,\n",
       "             gamma=None, gpu_id=None, grow_policy=None, importance_type=None,\n",
       "             interaction_constraints=None, learning_rate=0.05, max_bin=None,\n",
       "             max_cat_threshold=None, max_cat_to_onehot=None,\n",
       "             max_delta_step=None, max_depth=6, max_leaves=None,\n",
       "             min_child_weight=None, missing=nan, monotone_constraints=None,\n",
       "             n_estimators=500, n_jobs=None, num_parallel_tree=None,\n",
       "             predictor=None, random_state=42, ...)</pre></div></div></div></div></div></div></div>"
      ],
      "text/plain": [
       "Pipeline(steps=[('preprocessor',\n",
       "                 ColumnTransformer(transformers=[('num',\n",
       "                                                  Pipeline(steps=[('imputer',\n",
       "                                                                   SimpleImputer()),\n",
       "                                                                  ('scaler',\n",
       "                                                                   StandardScaler())]),\n",
       "                                                  ['size', 'Czynsz',\n",
       "                                                   'has_czynsz',\n",
       "                                                   'price_per_sqm',\n",
       "                                                   'has_czynsz', 'has_balkon',\n",
       "                                                   'has_taras',\n",
       "                                                   'has_garaż_miejsce_parkingowe',\n",
       "                                                   'has_piwnica',\n",
       "                                                   'has_oddzielna_kuchnia',\n",
       "                                                   'has_ogródek',\n",
       "                                                   'has_pom._użytkowe']),\n",
       "                                                 ('cat',\n",
       "                                                  Pipeline(...\n",
       "                              feature_types=None, gamma=None, gpu_id=None,\n",
       "                              grow_policy=None, importance_type=None,\n",
       "                              interaction_constraints=None, learning_rate=0.05,\n",
       "                              max_bin=None, max_cat_threshold=None,\n",
       "                              max_cat_to_onehot=None, max_delta_step=None,\n",
       "                              max_depth=6, max_leaves=None,\n",
       "                              min_child_weight=None, missing=nan,\n",
       "                              monotone_constraints=None, n_estimators=500,\n",
       "                              n_jobs=None, num_parallel_tree=None,\n",
       "                              predictor=None, random_state=42, ...))])"
      ]
     },
     "execution_count": 15,
     "metadata": {},
     "output_type": "execute_result"
    }
   ],
   "source": [
    "# Train-test split\n",
    "X_train, X_test, y_train, y_test = train_test_split(X, y, test_size=0.2, random_state=42)\n",
    "\n",
    "# Train the model\n",
    "model.fit(X_train, y_train)"
   ]
  },
  {
   "cell_type": "markdown",
   "metadata": {},
   "source": [
    "### Step 16: Model Evaluation using Mean Absolute Error (MAE)\n",
    "\n",
    "We evaluate the model's performance using the Mean Absolute Error (MAE). MAE is a suitable metric for regression tasks as it measures the average absolute difference between predicted and actual values.\n",
    "\n",
    "MAE is important because it gives us an idea of how close the predictions are to the actual values, providing insight into the model's accuracy."
   ]
  },
  {
   "cell_type": "code",
   "execution_count": 16,
   "metadata": {},
   "outputs": [
    {
     "name": "stdout",
     "output_type": "stream",
     "text": [
      "Mean Absolute Error: 82749.85096153835\n"
     ]
    }
   ],
   "source": [
    "# Model Prediction and Evaluation\n",
    "y_pred = np.exp(model.predict(X_test))  # Reverse log transformation\n",
    "mae = mean_absolute_error(np.exp(y_test), y_pred)\n",
    "print(f'Mean Absolute Error: {mae}')"
   ]
  },
  {
   "cell_type": "markdown",
   "metadata": {},
   "source": [
    "### Step 17: Saving the Model\n",
    "\n",
    "Finally, we save the trained model and the preprocessing pipeline using `joblib`. This allows us to reload the model in the future and make predictions without retraining.\n",
    "\n",
    "Saving models is a best practice for machine learning workflows, enabling reproducibility and efficient use of trained models."
   ]
  },
  {
   "cell_type": "code",
   "execution_count": 17,
   "metadata": {},
   "outputs": [
    {
     "data": {
      "text/plain": [
       "['preprocessor.pkl']"
      ]
     },
     "execution_count": 17,
     "metadata": {},
     "output_type": "execute_result"
    }
   ],
   "source": [
    "# Save the model\n",
    "joblib.dump(model, 'housing_price_predictor_model.pkl')\n",
    "joblib.dump(preprocessor, 'preprocessor.pkl')"
   ]
  }
 ],
 "metadata": {
  "kernelspec": {
   "display_name": "Python 3.9.13 ('base')",
   "language": "python",
   "name": "python3"
  },
  "language_info": {
   "codemirror_mode": {
    "name": "ipython",
    "version": 3
   },
   "file_extension": ".py",
   "mimetype": "text/x-python",
   "name": "python",
   "nbconvert_exporter": "python",
   "pygments_lexer": "ipython3",
   "version": "3.9.13"
  },
  "orig_nbformat": 4,
  "vscode": {
   "interpreter": {
    "hash": "40d3a090f54c6569ab1632332b64b2c03c39dcf918b08424e98f38b5ae0af88f"
   }
  }
 },
 "nbformat": 4,
 "nbformat_minor": 2
}
